{
 "cells": [
  {
   "cell_type": "markdown",
   "metadata": {},
   "source": [
    "1.1 Write a Python Program(with class concepts) to find the area of the triangle using the below  formula -> area = (s*(s-a)*(s-b)*(s-c)) ** 0.5\n",
    "Function to take the length of the sides of triangle from user should be defined in the parent  class and function to calculate the area should be defined in subclass."
   ]
  },
  {
   "cell_type": "code",
   "execution_count": 13,
   "metadata": {},
   "outputs": [
    {
     "name": "stdout",
     "output_type": "stream",
     "text": [
      "Enter triangle side a Value 10\n",
      "Enter triangle side b Value 11\n",
      "Enter triangle side c Value 12\n",
      "51.521233486786784\n"
     ]
    }
   ],
   "source": [
    "class parent1:\n",
    "    def __init__(self):\n",
    "        self.a=int(input(\"Enter triangle side a Value \"))\n",
    "        self.b=int(input(\"Enter triangle side b Value \"))\n",
    "        self.c=int(input(\"Enter triangle side c Value \"))\n",
    "       \n",
    "    def __str__(self):\n",
    "        return \"%d %d %d\" % (self.a,self.b,self.c)\n",
    "\n",
    "class child1(parent1):\n",
    "    def __init__(self):\n",
    "        super().__init__()\n",
    "    def calculate(self):\n",
    "        s=(self.a+self.b+self.c)/2\n",
    "        area = (s*(s-self.a)*(s-self.b)*(s-self.c)) ** 0.5\n",
    "        return area\n",
    "\n",
    "obj2=child1()\n",
    "print(obj2.calculate())\n"
   ]
  },
  {
   "cell_type": "markdown",
   "metadata": {},
   "source": [
    "1.2 Write a function filter_long_words() that takes a list of words and an integer n and returns  the list of words that are longer than n. "
   ]
  },
  {
   "cell_type": "code",
   "execution_count": 26,
   "metadata": {},
   "outputs": [
    {
     "name": "stdout",
     "output_type": "stream",
     "text": [
      "Enter list of words with comma separation a,as,der,qwe,qwrert,aswdfse\n",
      "Enter n value 2\n",
      "['der', 'qwe', 'qwrert', 'aswdfse']\n"
     ]
    }
   ],
   "source": [
    "class words:\n",
    "    def __init__(self):\n",
    "        self.lst=input(\"Enter list of words with comma separation \").split(',')\n",
    "        self.n=int(input(\"Enter n value \"))\n",
    "\n",
    "    def filter_long_words(self):\n",
    "        #print(list(filter(lambda x:len(x)>self.n,self.lst)))\n",
    "        return [i for i in self.lst if len(i) > self.n]\n",
    "\n",
    "obj1=words()\n",
    "print(obj1.filter_long_words())"
   ]
  },
  {
   "cell_type": "markdown",
   "metadata": {},
   "source": [
    "2.1 Write a Python program using function concept that maps list of words into a list of integers  representing the lengths of the corresponding words. \n",
    "Hint: If a list [ ab,cde,erty] is passed on to the python function output should come as [2,3,4] Here 2,3 and 4 are the lengths of the words in the list. "
   ]
  },
  {
   "cell_type": "code",
   "execution_count": 32,
   "metadata": {},
   "outputs": [
    {
     "name": "stdout",
     "output_type": "stream",
     "text": [
      "Enter list of words with comma separation ab,cde,erty\n",
      "[2, 3, 4]\n"
     ]
    }
   ],
   "source": [
    "class word_lengths:\n",
    "    def __init__(self):\n",
    "        self.lst=input(\"Enter list of words with comma separation \").split(',')\n",
    "\n",
    "    def find_word_length(self):\n",
    "        #print(list(map(lambda x:len(x),self.lst)))\n",
    "        return [len(i) for i in self.lst]\n",
    "\n",
    "obj1=word_lengths()\n",
    "print(obj1.find_word_length())"
   ]
  },
  {
   "cell_type": "markdown",
   "metadata": {},
   "source": [
    "2.2 Write a Python function which takes a character (i.e. a string of length 1) and returns True if  it is a vowel, False otherwise"
   ]
  },
  {
   "cell_type": "code",
   "execution_count": 33,
   "metadata": {},
   "outputs": [
    {
     "name": "stdout",
     "output_type": "stream",
     "text": [
      "please enter a character a\n",
      "a is a vowel\n",
      "True\n"
     ]
    }
   ],
   "source": [
    "class vowel:\n",
    "    def __init__(self):\n",
    "        self.char1=input(\"please enter a character \")\n",
    "        self.vowels=['a','e','i','o','u']\n",
    "        \n",
    "    def check_vowel(self):\n",
    "        while(len(self.char1)!=1):\n",
    "            print(\"Please Enter a character of length 1 !!\")\n",
    "            self.char1=input(\"please enter a character \")\n",
    "        if(self.char1 in self.vowels):\n",
    "            print(\"%s is a vowel\"%(self.char1))\n",
    "            return True\n",
    "        else:\n",
    "            print(\"%s is not a vowel\"%(self.char1))\n",
    "            return False\n",
    "\n",
    "obj1=vowel()\n",
    "print(obj1.check_vowel())"
   ]
  },
  {
   "cell_type": "code",
   "execution_count": null,
   "metadata": {},
   "outputs": [],
   "source": []
  }
 ],
 "metadata": {
  "kernelspec": {
   "display_name": "Python 3",
   "language": "python",
   "name": "python3"
  },
  "language_info": {
   "codemirror_mode": {
    "name": "ipython",
    "version": 3
   },
   "file_extension": ".py",
   "mimetype": "text/x-python",
   "name": "python",
   "nbconvert_exporter": "python",
   "pygments_lexer": "ipython3",
   "version": "3.8.5"
  }
 },
 "nbformat": 4,
 "nbformat_minor": 4
}
